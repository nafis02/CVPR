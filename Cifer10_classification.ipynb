{
 "cells": [
  {
   "cell_type": "code",
   "execution_count": 1,
   "id": "f2fe9823",
   "metadata": {},
   "outputs": [],
   "source": [
    "import os\n",
    "from sklearn.utils import shuffle\n",
    "import matplotlib.pyplot as plt\n",
    "import numpy as np\n",
    "import cv2 as cv\n",
    "import glob\n",
    "import math"
   ]
  },
  {
   "cell_type": "code",
   "execution_count": 2,
   "id": "b1df8ea9",
   "metadata": {},
   "outputs": [],
   "source": [
    "notebook_path = os.path.abspath(\"Cifer10_classification.ipynb\")\n",
    "path0 = os.path.join(os.path.dirname(notebook_path), \"CIFAR-10-images\\\\train\\\\airplane\")\n",
    "path1 = os.path.join(os.path.dirname(notebook_path), \"CIFAR-10-images\\\\train\\\\automobile\")\n",
    "path2 = os.path.join(os.path.dirname(notebook_path), \"CIFAR-10-images\\\\train\\\\bird\")\n",
    "path3 = os.path.join(os.path.dirname(notebook_path), \"CIFAR-10-images\\\\train\\\\cat\")\n",
    "path4 = os.path.join(os.path.dirname(notebook_path), \"CIFAR-10-images\\\\train\\\\deer\")\n",
    "path5 = os.path.join(os.path.dirname(notebook_path), \"CIFAR-10-images\\\\train\\\\dog\")\n",
    "path6 = os.path.join(os.path.dirname(notebook_path), \"CIFAR-10-images\\\\train\\\\frog\")\n",
    "path7 = os.path.join(os.path.dirname(notebook_path), \"CIFAR-10-images\\\\train\\\\horse\")\n",
    "path8 = os.path.join(os.path.dirname(notebook_path), \"CIFAR-10-images\\\\train\\\\ship\")\n",
    "path9 = os.path.join(os.path.dirname(notebook_path), \"CIFAR-10-images\\\\train\\\\truck\")"
   ]
  },
  {
   "cell_type": "code",
   "execution_count": 3,
   "id": "397934da",
   "metadata": {},
   "outputs": [],
   "source": [
    "train_sample = []\n",
    "train_labels = []\n",
    "\n",
    "def readImage(path,label_name,sample,label):\n",
    "    for img in glob.glob(path+\"\\\\*.jpg\"):\n",
    "        n = cv.imread(img)\n",
    "        sample.append(n)\n",
    "        label.append(label_name)"
   ]
  },
  {
   "cell_type": "code",
   "execution_count": 4,
   "id": "7eacf365",
   "metadata": {},
   "outputs": [],
   "source": [
    "readImage(path0,0,train_sample,train_labels)\n",
    "readImage(path1,1,train_sample,train_labels)\n",
    "readImage(path2,2,train_sample,train_labels)\n",
    "readImage(path3,3,train_sample,train_labels)\n",
    "readImage(path4,4,train_sample,train_labels)\n",
    "readImage(path5,5,train_sample,train_labels)\n",
    "readImage(path6,6,train_sample,train_labels)\n",
    "readImage(path7,7,train_sample,train_labels)\n",
    "readImage(path8,8,train_sample,train_labels)\n",
    "readImage(path9,9,train_sample,train_labels)"
   ]
  },
  {
   "cell_type": "code",
   "execution_count": 5,
   "id": "9624a1ab",
   "metadata": {},
   "outputs": [],
   "source": [
    "train_sample = np.array(train_sample)\n",
    "train_labels = np.array(train_labels)\n",
    "train_labels,train_sample = shuffle(train_labels,train_sample)"
   ]
  },
  {
   "cell_type": "code",
   "execution_count": 6,
   "id": "61a8277b",
   "metadata": {},
   "outputs": [
    {
     "data": {
      "text/plain": [
       "(50000, 32, 32, 3)"
      ]
     },
     "execution_count": 6,
     "metadata": {},
     "output_type": "execute_result"
    }
   ],
   "source": [
    "train_sample.shape"
   ]
  },
  {
   "cell_type": "code",
   "execution_count": 7,
   "id": "95d3349f",
   "metadata": {},
   "outputs": [],
   "source": [
    "path0 = os.path.join(os.path.dirname(notebook_path), \"CIFAR-10-images\\\\test\\\\airplane\")\n",
    "path1 = os.path.join(os.path.dirname(notebook_path), \"CIFAR-10-images\\\\test\\\\automobile\")\n",
    "path2 = os.path.join(os.path.dirname(notebook_path), \"CIFAR-10-images\\\\test\\\\bird\")\n",
    "path3 = os.path.join(os.path.dirname(notebook_path), \"CIFAR-10-images\\\\test\\\\cat\")\n",
    "path4 = os.path.join(os.path.dirname(notebook_path), \"CIFAR-10-images\\\\test\\\\deer\")\n",
    "path5 = os.path.join(os.path.dirname(notebook_path), \"CIFAR-10-images\\\\test\\\\dog\")\n",
    "path6 = os.path.join(os.path.dirname(notebook_path), \"CIFAR-10-images\\\\test\\\\frog\")\n",
    "path7 = os.path.join(os.path.dirname(notebook_path), \"CIFAR-10-images\\\\test\\\\horse\")\n",
    "path8 = os.path.join(os.path.dirname(notebook_path), \"CIFAR-10-images\\\\test\\\\ship\")\n",
    "path9 = os.path.join(os.path.dirname(notebook_path), \"CIFAR-10-images\\\\test\\\\truck\")"
   ]
  },
  {
   "cell_type": "code",
   "execution_count": 8,
   "id": "2315de5f",
   "metadata": {},
   "outputs": [],
   "source": [
    "test_sample = []\n",
    "test_labels = []\n",
    "\n",
    "readImage(path0,0,test_sample,test_labels)\n",
    "readImage(path1,1,test_sample,test_labels)\n",
    "readImage(path2,2,test_sample,test_labels)\n",
    "readImage(path3,3,test_sample,test_labels)\n",
    "readImage(path4,4,test_sample,test_labels)\n",
    "readImage(path5,5,test_sample,test_labels)\n",
    "readImage(path6,6,test_sample,test_labels)\n",
    "readImage(path7,7,test_sample,test_labels)\n",
    "readImage(path8,8,test_sample,test_labels)\n",
    "readImage(path9,9,test_sample,test_labels)"
   ]
  },
  {
   "cell_type": "code",
   "execution_count": 9,
   "id": "981e498c",
   "metadata": {},
   "outputs": [],
   "source": [
    "test_sample = np.array(test_sample)\n",
    "test_labels = np.array(test_labels)\n",
    "test_labels,test_sample = shuffle(test_labels,test_sample)"
   ]
  },
  {
   "cell_type": "code",
   "execution_count": 10,
   "id": "199cab80",
   "metadata": {},
   "outputs": [
    {
     "data": {
      "text/plain": [
       "(10000, 32, 32, 3)"
      ]
     },
     "execution_count": 10,
     "metadata": {},
     "output_type": "execute_result"
    }
   ],
   "source": [
    "test_sample.shape"
   ]
  },
  {
   "cell_type": "code",
   "execution_count": 189,
   "id": "250a2d99",
   "metadata": {},
   "outputs": [],
   "source": [
    "def kNearestNeighbor(test,k):\n",
    "    n = []\n",
    "    train = train_sample.reshape(50000,3072).astype(np.int64)\n",
    "    test = test.reshape(3072).astype(np.int64)\n",
    "    \n",
    "    for i in range(0,10000):\n",
    "        d = sum(np.square((train[i]-test)))\n",
    "        n.append(d)\n",
    "    \n",
    "    n = np.array(n)\n",
    "    nn = np.argsort(n)\n",
    "    nn = nn[0:k]\n",
    "    pred = train_labels[nn]\n",
    "    count = []\n",
    "    \n",
    "    for i in range(10):\n",
    "        c = np.where(np.equal(pred,i))\n",
    "#         print(c)\n",
    "        count.append(np.array(c).size)\n",
    "        \n",
    "    if k<=2:\n",
    "        pred = pred[0]\n",
    "    if k>2:\n",
    "        class_ = np.where(np.equal(count,np.amax(count)))\n",
    "        pred = class_[0][0]\n",
    "                    \n",
    "                  \n",
    "    return pred"
   ]
  },
  {
   "cell_type": "code",
   "execution_count": 192,
   "id": "313e450a",
   "metadata": {},
   "outputs": [
    {
     "name": "stdout",
     "output_type": "stream",
     "text": [
      "For K=1\n",
      "\n",
      "Count: 29; Accuracy: 29.0;\n",
      "For K=2\n",
      "\n",
      "Count: 29; Accuracy: 29.0;\n",
      "For K=3\n",
      "\n",
      "Count: 29; Accuracy: 29.0;\n",
      "For K=4\n",
      "\n",
      "Count: 32; Accuracy: 32.0;\n",
      "For K=5\n",
      "\n",
      "Count: 32; Accuracy: 32.0;\n",
      "For K=6\n",
      "\n",
      "Count: 29; Accuracy: 29.0;\n",
      "For K=7\n",
      "\n",
      "Count: 29; Accuracy: 29.0;\n",
      "For K=8\n",
      "\n",
      "Count: 27; Accuracy: 27.0;\n",
      "For K=9\n",
      "\n",
      "Count: 29; Accuracy: 29.0;\n",
      "For K=10\n",
      "\n",
      "Count: 28; Accuracy: 28.0;\n",
      "For K=11\n",
      "\n",
      "Count: 30; Accuracy: 30.0;\n",
      "For K=12\n",
      "\n",
      "Count: 27; Accuracy: 27.0;\n",
      "For K=13\n",
      "\n",
      "Count: 31; Accuracy: 31.0;\n",
      "For K=14\n",
      "\n",
      "Count: 31; Accuracy: 31.0;\n",
      "For K=15\n",
      "\n",
      "Count: 31; Accuracy: 31.0;\n",
      "For K=16\n",
      "\n",
      "Count: 31; Accuracy: 31.0;\n",
      "For K=17\n",
      "\n",
      "Count: 31; Accuracy: 31.0;\n",
      "For K=18\n",
      "\n",
      "Count: 30; Accuracy: 30.0;\n",
      "For K=19\n",
      "\n",
      "Count: 31; Accuracy: 31.0;\n",
      "For K=20\n",
      "\n",
      "Count: 31; Accuracy: 31.0;\n"
     ]
    }
   ],
   "source": [
    "count = 0\n",
    "acc = 0\n",
    "accuracy = []\n",
    "pred = []\n",
    "\n",
    "for k in range(1,21):\n",
    "    print(f'For K={k}\\n')\n",
    "    count=0\n",
    "    for i in range(100):        \n",
    "        n = kNearestNeighbor(test_sample[i],k)\n",
    "#         print(f'Test {i}')\n",
    "        if (test_labels[i] == n):\n",
    "            count+=1\n",
    "    acc = (count*100)/100\n",
    "    accuracy.append(acc)\n",
    "    print(f\"Count: {count}; Accuracy: {acc};\")"
   ]
  },
  {
   "cell_type": "code",
   "execution_count": 193,
   "id": "5fbe9981",
   "metadata": {},
   "outputs": [
    {
     "data": {
      "image/png": "[encoded data removed]",
      "text/plain": [
       "<Figure size 432x288 with 1 Axes>"
      ]
     },
     "metadata": {
      "needs_background": "light"
     },
     "output_type": "display_data"
    }
   ],
   "source": [
    "accuracy = np.array(accuracy)\n",
    "k = np.arange(1,21)\n",
    "\n",
    "plt.figure()\n",
    "plt.ylabel(\"Accuracy\")\n",
    "plt.xlabel(\"K\")\n",
    "plt.title(\"Accuracy vs K values\\n\")\n",
    "plt.plot(k,accuracy)\n",
    "plt.show()"
   ]
  },
  {
   "cell_type": "markdown",
   "id": "b48621b1",
   "metadata": {},
   "source": [
    "The results show that K value can impact the prediction greatly. K is a hyperparameter so it can not be told early on which value would work the best. But for this CIFAR 10 dataset a value between 4-6 seems to be working best.\n",
    "\n",
    "This approach takes a lot of time and is not effective enough to predict the images. That is why deep learning methods are used which can increase effeciency of image prediction"
   ]
  }
 ],
 "metadata": {
  "kernelspec": {
   "display_name": "Python 3",
   "language": "python",
   "name": "python3"
  },
  "language_info": {
   "codemirror_mode": {
    "name": "ipython",
    "version": 3
   },
   "file_extension": ".py",
   "mimetype": "text/x-python",
   "name": "python",
   "nbconvert_exporter": "python",
   "pygments_lexer": "ipython3",
   "version": "3.8.8"
  }
 },
 "nbformat": 4,
 "nbformat_minor": 5
}
